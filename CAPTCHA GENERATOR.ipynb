{
 "cells": [
  {
   "cell_type": "code",
   "execution_count": 4,
   "id": "226b061c",
   "metadata": {},
   "outputs": [],
   "source": [
    "from tkinter import *\n",
    "import random,string\n",
    "import pyperclip\n",
    "root=Tk()\n",
    "root.geometry(\"350x350\")\n",
    "root.title(\"Captch Generator\")\n",
    "root.resizable(0,0)\n",
    "heading=Label(root,text=\"Captcha Generator\",font=\"arial 15 bold\").pack()\n",
    "\n",
    "captcha_len=Label(root,text=\"CAPTCHA LENGTH\",font=\"arial 10 bold\").pack()\n",
    "captcha_len=IntVar()\n",
    "length=Spinbox(root,from_=4,to_=8,textvariable=captcha_len,width=15).pack()\n",
    "\n",
    "captcha_str=StringVar()\n",
    "\n",
    "def Captcha_Generator():\n",
    "    captcha=\" \"\n",
    "    for x in range(0,4):\n",
    "        captcha=random.choice(string.ascii_uppercase)+random.choice(string.ascii_lowercase)+random.choice(string.digits)\n",
    "    for y in range(captcha_len.get()-3):\n",
    "        captcha=captcha+random.choice(string.ascii_uppercase+string.ascii_lowercase+string.digits)\n",
    "    captcha_str.set(captcha)\n",
    "\n",
    "Button(root,text=\"CAPTCHA GENERATOR\",command=Captcha_Generator).pack(pady=5)\n",
    "Entry(root,textvariable=captcha_str).pack()\n",
    "\n",
    "def Copy_Captcha():\n",
    "    pyperclip.copy(captcha_str.get())\n",
    "Button(root,text=\"COPY TO CLIPBOARD\",command=Copy_Captcha).pack(pady=5)\n",
    "\n",
    "root.mainloop()"
   ]
  },
  {
   "cell_type": "code",
   "execution_count": null,
   "id": "e22bc69e",
   "metadata": {},
   "outputs": [],
   "source": []
  }
 ],
 "metadata": {
  "kernelspec": {
   "display_name": "Python 3 (ipykernel)",
   "language": "python",
   "name": "python3"
  },
  "language_info": {
   "codemirror_mode": {
    "name": "ipython",
    "version": 3
   },
   "file_extension": ".py",
   "mimetype": "text/x-python",
   "name": "python",
   "nbconvert_exporter": "python",
   "pygments_lexer": "ipython3",
   "version": "3.9.12"
  }
 },
 "nbformat": 4,
 "nbformat_minor": 5
}
